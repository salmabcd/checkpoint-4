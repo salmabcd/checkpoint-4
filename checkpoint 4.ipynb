{
 "cells": [
  {
   "cell_type": "code",
   "execution_count": null,
   "id": "a7839bee",
   "metadata": {},
   "outputs": [],
   "source": [
    "#question 1\n",
    "def maximum(a,b,c):\n",
    "    if a>=b and a>=c:\n",
    "        largest= a\n",
    "    elif b>=a and b>=c:\n",
    "        largest= b\n",
    "    else:\n",
    "        largest= c\n",
    "    return largest\n",
    "maximum(25,23,11)"
   ]
  },
  {
   "cell_type": "code",
   "execution_count": null,
   "id": "ea75dbfb",
   "metadata": {},
   "outputs": [],
   "source": [
    "#question 2\n",
    "def calculation(a,b):\n",
    "    return (a+b,a-b)\n",
    "calculation(40,10)"
   ]
  },
  {
   "cell_type": "code",
   "execution_count": 13,
   "id": "fb57ca34",
   "metadata": {},
   "outputs": [
    {
     "name": "stdout",
     "output_type": "stream",
     "text": [
      "91\n",
      "0\n",
      "86\n",
      "5\n"
     ]
    }
   ],
   "source": [
    "#question 3\n",
    "l=[0,5,86]\n",
    "#part 1\n",
    "def Sum(l):\n",
    "    S=0\n",
    "    for i in range (len(l)):\n",
    "        S=S+l[i]\n",
    "    return (S)\n",
    "print (Sum(l))\n",
    "#part 2\n",
    "def Multi(l):\n",
    "    D=1\n",
    "    for z in range (len(l)):\n",
    "        D=D*l[z]\n",
    "    return (D)\n",
    "print (Multi(l))\n",
    "#part 3\n",
    "o=[]\n",
    "e=[]\n",
    "for i in range(len(l)):\n",
    "        if i%2==0:\n",
    "            e.append(l[i])\n",
    "        else:\n",
    "            o.append(l[i])\n",
    "print (Sum(e))\n",
    "print (Multi(o))"
   ]
  },
  {
   "cell_type": "code",
   "execution_count": 4,
   "id": "f346cba8",
   "metadata": {},
   "outputs": [
    {
     "name": "stdout",
     "output_type": "stream",
     "text": [
      "enter une liste de caractère a-h-k-l-b-v\n",
      "a-b-h-k-l-v\n",
      "['a', 'b', 'h', 'k', 'l', 'v']\n"
     ]
    }
   ],
   "source": [
    "#question 4\n",
    "ch=input('enter une liste de caractère ')\n",
    "def split_sort(items):\n",
    "    items=[n for n in items.split('-')]\n",
    "    items.sort()\n",
    "    print('-'.join(items))\n",
    "    return items\n",
    "print (split_sort(ch))\n"
   ]
  },
  {
   "cell_type": "code",
   "execution_count": 10,
   "id": "6d021d30",
   "metadata": {},
   "outputs": [
    {
     "name": "stdout",
     "output_type": "stream",
     "text": [
      "provide D:100,200\n",
      "[18, 26]\n"
     ]
    }
   ],
   "source": [
    "#question 5\n",
    "import math\n",
    "numbers=input(\"provide D:\")\n",
    "numbers=numbers.split(',')\n",
    "result_list = []\n",
    "C=50\n",
    "H=30\n",
    "def calculate(D):\n",
    "    Q= round(math.sqrt(2 * C * int(D)/H))\n",
    "    return Q\n",
    "for i in numbers:\n",
    "    Q=calculate(i)\n",
    "    result_list.append(Q)\n",
    "print(result_list)"
   ]
  },
  {
   "cell_type": "code",
   "execution_count": null,
   "id": "3a4326e9",
   "metadata": {},
   "outputs": [],
   "source": []
  }
 ],
 "metadata": {
  "kernelspec": {
   "display_name": "Python 3",
   "language": "python",
   "name": "python3"
  },
  "language_info": {
   "codemirror_mode": {
    "name": "ipython",
    "version": 3
   },
   "file_extension": ".py",
   "mimetype": "text/x-python",
   "name": "python",
   "nbconvert_exporter": "python",
   "pygments_lexer": "ipython3",
   "version": "3.8.8"
  }
 },
 "nbformat": 4,
 "nbformat_minor": 5
}
